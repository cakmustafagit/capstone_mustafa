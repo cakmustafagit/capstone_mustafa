{
 "cells": [
  {
   "cell_type": "markdown",
   "metadata": {},
   "source": [
    "# Capstone Webscrapping using BeautifulSoup\n",
    "\n",
    "This notebook contains guidances & tasks on the data processing for the application\n",
    "\n",
    "## background\n",
    "\n",
    "Saat ini saya mengajar di Teknik Informatika UNISSULA dan salah satu orientasi pengembangan akan berorientasi kepada pembelajaran dan penelitian artificial intelligent. Sebagai orang yang punya backdround pendidikan sistem informasi dan manajemen bisnis maka orientasi pengembangan pribadi untuk masuk dalam pembelajaran dan penelitian data science, khususnya bidang text mining. \n",
    "Untuk eksplorasi penelitian text mining, salah satu submber data yang bisa didapatkan melalui proses scraping data di website Oleh karena itu pada capstone project ini saya menentukan pilihan WEB SCRAPING menggunakan BeautifulShoup.\n",
    "\n",
    "## Requesting the Data and Creating a BeautifulSoup\n",
    "\n",
    "Let's begin with requesting the web from the site with `get` method."
   ]
  },
  {
   "cell_type": "code",
   "execution_count": 2,
   "metadata": {
    "ExecuteTime": {
     "end_time": "2020-01-13T05:12:23.275508Z",
     "start_time": "2020-01-13T05:12:20.009898Z"
    }
   },
   "outputs": [],
   "source": [
    "import requests\n",
    "\n",
    "url_get = requests.get('https://www.exchange-rates.org/exchange-rate-history/usd-idr')"
   ]
  },
  {
   "cell_type": "markdown",
   "metadata": {},
   "source": [
    "To visualize what exactly you get from the `request.get`, we can use .content so ee what we exactly get, in here i slice it so it won't make our screen full of the html we get from the page. You can delete the slicing if you want to see what we fully get."
   ]
  },
  {
   "cell_type": "code",
   "execution_count": 3,
   "metadata": {
    "ExecuteTime": {
     "end_time": "2020-01-13T05:12:23.290648Z",
     "start_time": "2020-01-13T05:12:23.277650Z"
    }
   },
   "outputs": [
    {
     "data": {
      "text/plain": [
       "b'!DOCTYPE html>\\r\\n<!--[if lt IE 9]>\\r\\n<html class=\"no-js ie8 oldie\" lang=\"en\" xml:lang=\\'en\\'>\\r\\n<![endif]-->\\r\\n<!--[if gt IE 8]><!--><html class=\"no-js\" lang=\"en\" xml:lang=\\'en\\'><!--<![endif]-->\\r\\n<head>\\r\\n<title>USD to IDR exchange rate history</title>\\r\\n<meta http-equiv=\"X-UA-Compatible\" content=\"IE=edge\">\\r\\n<meta name=\"viewport\" content=\"width=device-width, initial-scale=1, maximum-scale=5\">\\r\\n<meta charset=\"utf-8\" /><meta http-equiv=\"Content-Type\" content=\"text/html; charset=utf-8\" />\\r\\n<base href=\"http'"
      ]
     },
     "execution_count": 3,
     "metadata": {},
     "output_type": "execute_result"
    }
   ],
   "source": [
    "url_get.content[1:500]"
   ]
  },
  {
   "cell_type": "markdown",
   "metadata": {},
   "source": [
    "As we can see we get a very unstructured and complex html, which actually contains the codes needed to show the webpages on your web browser. But we as human still confused what and where we can use that piece of code, so here where we use the beautifulsoup. Beautiful soup class will result a beautifulsoup object. Beautiful Soup transforms a complex HTML document into a complex tree of Python objects. \n",
    "\n",
    "Let's make Beautiful soup object and feel free to explore the object here."
   ]
  },
  {
   "cell_type": "code",
   "execution_count": 4,
   "metadata": {
    "ExecuteTime": {
     "end_time": "2020-01-13T05:12:23.808122Z",
     "start_time": "2020-01-13T05:12:23.292610Z"
    }
   },
   "outputs": [],
   "source": [
    "from bs4 import BeautifulSoup \n",
    "\n",
    "soup = BeautifulSoup(url_get.content,\"html.parser\")"
   ]
  },
  {
   "cell_type": "markdown",
   "metadata": {},
   "source": [
    "## Finding the right key to scrap the data & Extracting the right information"
   ]
  },
  {
   "cell_type": "markdown",
   "metadata": {},
   "source": [
    "Find the key and put the key into the `.find()` Put all the exploring the right key at this cell. (please change this markdown with your explanation)"
   ]
  },
  {
   "cell_type": "code",
   "execution_count": 6,
   "metadata": {},
   "outputs": [
    {
     "data": {
      "text/plain": [
       "[<a class=\"n\" href=\"/exchange-rate-history/usd-idr-2023-09-01\">2023-9-1</a>,\n",
       " <a class=\"n\" href=\"/exchange-rate-history/usd-idr-2023-08-31\">2023-8-31</a>,\n",
       " <a class=\"n\" href=\"/exchange-rate-history/usd-idr-2023-08-30\">2023-8-30</a>,\n",
       " <a class=\"n\" href=\"/exchange-rate-history/usd-idr-2023-08-29\">2023-8-29</a>,\n",
       " <a class=\"n\" href=\"/exchange-rate-history/usd-idr-2023-08-28\">2023-8-28</a>,\n",
       " <a class=\"n\" href=\"/exchange-rate-history/usd-idr-2023-08-25\">2023-8-25</a>,\n",
       " <a class=\"n\" href=\"/exchange-rate-history/usd-idr-2023-08-24\">2023-8-24</a>,\n",
       " <a class=\"n\" href=\"/exchange-rate-history/usd-idr-2023-08-23\">2023-8-23</a>,\n",
       " <a class=\"n\" href=\"/exchange-rate-history/usd-idr-2023-08-22\">2023-8-22</a>,\n",
       " <a class=\"n\" href=\"/exchange-rate-history/usd-idr-2023-08-21\">2023-8-21</a>,\n",
       " <a class=\"n\" href=\"/exchange-rate-history/usd-idr-2023-08-18\">2023-8-18</a>,\n",
       " <a class=\"n\" href=\"/exchange-rate-history/usd-idr-2023-08-17\">2023-8-17</a>,\n",
       " <a class=\"n\" href=\"/exchange-rate-history/usd-idr-2023-08-16\">2023-8-16</a>,\n",
       " <a class=\"n\" href=\"/exchange-rate-history/usd-idr-2023-08-15\">2023-8-15</a>,\n",
       " <a class=\"n\" href=\"/exchange-rate-history/usd-idr-2023-08-14\">2023-8-14</a>,\n",
       " <a class=\"n\" href=\"/exchange-rate-history/usd-idr-2023-08-11\">2023-8-11</a>,\n",
       " <a class=\"n\" href=\"/exchange-rate-history/usd-idr-2023-08-10\">2023-8-10</a>,\n",
       " <a class=\"n\" href=\"/exchange-rate-history/usd-idr-2023-08-09\">2023-8-9</a>,\n",
       " <a class=\"n\" href=\"/exchange-rate-history/usd-idr-2023-08-08\">2023-8-8</a>,\n",
       " <a class=\"n\" href=\"/exchange-rate-history/usd-idr-2023-08-07\">2023-8-7</a>,\n",
       " <a class=\"n\" href=\"/exchange-rate-history/usd-idr-2023-08-04\">2023-8-4</a>,\n",
       " <a class=\"n\" href=\"/exchange-rate-history/usd-idr-2023-08-03\">2023-8-3</a>,\n",
       " <a class=\"n\" href=\"/exchange-rate-history/usd-idr-2023-08-02\">2023-8-2</a>,\n",
       " <a class=\"n\" href=\"/exchange-rate-history/usd-idr-2023-08-01\">2023-8-1</a>,\n",
       " <a class=\"n\" href=\"/exchange-rate-history/usd-idr-2023-07-31\">2023-7-31</a>,\n",
       " <a class=\"n\" href=\"/exchange-rate-history/usd-idr-2023-07-28\">2023-7-28</a>,\n",
       " <a class=\"n\" href=\"/exchange-rate-history/usd-idr-2023-07-27\">2023-7-27</a>,\n",
       " <a class=\"n\" href=\"/exchange-rate-history/usd-idr-2023-07-26\">2023-7-26</a>,\n",
       " <a class=\"n\" href=\"/exchange-rate-history/usd-idr-2023-07-25\">2023-7-25</a>,\n",
       " <a class=\"n\" href=\"/exchange-rate-history/usd-idr-2023-07-24\">2023-7-24</a>,\n",
       " <a class=\"n\" href=\"/exchange-rate-history/usd-idr-2023-07-21\">2023-7-21</a>,\n",
       " <a class=\"n\" href=\"/exchange-rate-history/usd-idr-2023-07-20\">2023-7-20</a>,\n",
       " <a class=\"n\" href=\"/exchange-rate-history/usd-idr-2023-07-19\">2023-7-19</a>,\n",
       " <a class=\"n\" href=\"/exchange-rate-history/usd-idr-2023-07-18\">2023-7-18</a>,\n",
       " <a class=\"n\" href=\"/exchange-rate-history/usd-idr-2023-07-17\">2023-7-17</a>,\n",
       " <a class=\"n\" href=\"/exchange-rate-history/usd-idr-2023-07-14\">2023-7-14</a>,\n",
       " <a class=\"n\" href=\"/exchange-rate-history/usd-idr-2023-07-13\">2023-7-13</a>,\n",
       " <a class=\"n\" href=\"/exchange-rate-history/usd-idr-2023-07-12\">2023-7-12</a>,\n",
       " <a class=\"n\" href=\"/exchange-rate-history/usd-idr-2023-07-11\">2023-7-11</a>,\n",
       " <a class=\"n\" href=\"/exchange-rate-history/usd-idr-2023-07-10\">2023-7-10</a>,\n",
       " <a class=\"n\" href=\"/exchange-rate-history/usd-idr-2023-07-07\">2023-7-7</a>,\n",
       " <a class=\"n\" href=\"/exchange-rate-history/usd-idr-2023-07-06\">2023-7-6</a>,\n",
       " <a class=\"n\" href=\"/exchange-rate-history/usd-idr-2023-07-05\">2023-7-5</a>,\n",
       " <a class=\"n\" href=\"/exchange-rate-history/usd-idr-2023-07-04\">2023-7-4</a>,\n",
       " <a class=\"n\" href=\"/exchange-rate-history/usd-idr-2023-07-03\">2023-7-3</a>,\n",
       " <a class=\"n\" href=\"/exchange-rate-history/usd-idr-2023-06-30\">2023-6-30</a>,\n",
       " <a class=\"n\" href=\"/exchange-rate-history/usd-idr-2023-06-29\">2023-6-29</a>,\n",
       " <a class=\"n\" href=\"/exchange-rate-history/usd-idr-2023-06-28\">2023-6-28</a>,\n",
       " <a class=\"n\" href=\"/exchange-rate-history/usd-idr-2023-06-27\">2023-6-27</a>,\n",
       " <a class=\"n\" href=\"/exchange-rate-history/usd-idr-2023-06-26\">2023-6-26</a>,\n",
       " <a class=\"n\" href=\"/exchange-rate-history/usd-idr-2023-06-23\">2023-6-23</a>,\n",
       " <a class=\"n\" href=\"/exchange-rate-history/usd-idr-2023-06-22\">2023-6-22</a>,\n",
       " <a class=\"n\" href=\"/exchange-rate-history/usd-idr-2023-06-21\">2023-6-21</a>,\n",
       " <a class=\"n\" href=\"/exchange-rate-history/usd-idr-2023-06-20\">2023-6-20</a>,\n",
       " <a class=\"n\" href=\"/exchange-rate-history/usd-idr-2023-06-19\">2023-6-19</a>,\n",
       " <a class=\"n\" href=\"/exchange-rate-history/usd-idr-2023-06-16\">2023-6-16</a>,\n",
       " <a class=\"n\" href=\"/exchange-rate-history/usd-idr-2023-06-15\">2023-6-15</a>,\n",
       " <a class=\"n\" href=\"/exchange-rate-history/usd-idr-2023-06-14\">2023-6-14</a>,\n",
       " <a class=\"n\" href=\"/exchange-rate-history/usd-idr-2023-06-13\">2023-6-13</a>,\n",
       " <a class=\"n\" href=\"/exchange-rate-history/usd-idr-2023-06-12\">2023-6-12</a>,\n",
       " <a class=\"n\" href=\"/exchange-rate-history/usd-idr-2023-06-09\">2023-6-9</a>,\n",
       " <a class=\"n\" href=\"/exchange-rate-history/usd-idr-2023-06-08\">2023-6-8</a>,\n",
       " <a class=\"n\" href=\"/exchange-rate-history/usd-idr-2023-06-07\">2023-6-7</a>,\n",
       " <a class=\"n\" href=\"/exchange-rate-history/usd-idr-2023-06-06\">2023-6-6</a>,\n",
       " <a class=\"n\" href=\"/exchange-rate-history/usd-idr-2023-06-05\">2023-6-5</a>,\n",
       " <a class=\"n\" href=\"/exchange-rate-history/usd-idr-2023-06-02\">2023-6-2</a>,\n",
       " <a class=\"n\" href=\"/exchange-rate-history/usd-idr-2023-06-01\">2023-6-1</a>,\n",
       " <a class=\"n\" href=\"/exchange-rate-history/usd-idr-2023-05-31\">2023-5-31</a>,\n",
       " <a class=\"n\" href=\"/exchange-rate-history/usd-idr-2023-05-30\">2023-5-30</a>,\n",
       " <a class=\"n\" href=\"/exchange-rate-history/usd-idr-2023-05-29\">2023-5-29</a>,\n",
       " <a class=\"n\" href=\"/exchange-rate-history/usd-idr-2023-05-26\">2023-5-26</a>,\n",
       " <a class=\"n\" href=\"/exchange-rate-history/usd-idr-2023-05-25\">2023-5-25</a>,\n",
       " <a class=\"n\" href=\"/exchange-rate-history/usd-idr-2023-05-24\">2023-5-24</a>,\n",
       " <a class=\"n\" href=\"/exchange-rate-history/usd-idr-2023-05-23\">2023-5-23</a>,\n",
       " <a class=\"n\" href=\"/exchange-rate-history/usd-idr-2023-05-22\">2023-5-22</a>,\n",
       " <a class=\"n\" href=\"/exchange-rate-history/usd-idr-2023-05-19\">2023-5-19</a>,\n",
       " <a class=\"n\" href=\"/exchange-rate-history/usd-idr-2023-05-18\">2023-5-18</a>,\n",
       " <a class=\"n\" href=\"/exchange-rate-history/usd-idr-2023-05-17\">2023-5-17</a>,\n",
       " <a class=\"n\" href=\"/exchange-rate-history/usd-idr-2023-05-16\">2023-5-16</a>,\n",
       " <a class=\"n\" href=\"/exchange-rate-history/usd-idr-2023-05-15\">2023-5-15</a>,\n",
       " <a class=\"n\" href=\"/exchange-rate-history/usd-idr-2023-05-12\">2023-5-12</a>,\n",
       " <a class=\"n\" href=\"/exchange-rate-history/usd-idr-2023-05-11\">2023-5-11</a>,\n",
       " <a class=\"n\" href=\"/exchange-rate-history/usd-idr-2023-05-10\">2023-5-10</a>,\n",
       " <a class=\"n\" href=\"/exchange-rate-history/usd-idr-2023-05-09\">2023-5-9</a>,\n",
       " <a class=\"n\" href=\"/exchange-rate-history/usd-idr-2023-05-08\">2023-5-8</a>,\n",
       " <a class=\"n\" href=\"/exchange-rate-history/usd-idr-2023-05-05\">2023-5-5</a>,\n",
       " <a class=\"n\" href=\"/exchange-rate-history/usd-idr-2023-05-04\">2023-5-4</a>,\n",
       " <a class=\"n\" href=\"/exchange-rate-history/usd-idr-2023-05-03\">2023-5-3</a>,\n",
       " <a class=\"n\" href=\"/exchange-rate-history/usd-idr-2023-05-02\">2023-5-2</a>,\n",
       " <a class=\"n\" href=\"/exchange-rate-history/usd-idr-2023-05-01\">2023-5-1</a>,\n",
       " <a class=\"n\" href=\"/exchange-rate-history/usd-idr-2023-04-28\">2023-4-28</a>,\n",
       " <a class=\"n\" href=\"/exchange-rate-history/usd-idr-2023-04-27\">2023-4-27</a>,\n",
       " <a class=\"n\" href=\"/exchange-rate-history/usd-idr-2023-04-26\">2023-4-26</a>,\n",
       " <a class=\"n\" href=\"/exchange-rate-history/usd-idr-2023-04-25\">2023-4-25</a>,\n",
       " <a class=\"n\" href=\"/exchange-rate-history/usd-idr-2023-04-24\">2023-4-24</a>,\n",
       " <a class=\"n\" href=\"/exchange-rate-history/usd-idr-2023-04-21\">2023-4-21</a>,\n",
       " <a class=\"n\" href=\"/exchange-rate-history/usd-idr-2023-04-20\">2023-4-20</a>,\n",
       " <a class=\"n\" href=\"/exchange-rate-history/usd-idr-2023-04-19\">2023-4-19</a>,\n",
       " <a class=\"n\" href=\"/exchange-rate-history/usd-idr-2023-04-18\">2023-4-18</a>,\n",
       " <a class=\"n\" href=\"/exchange-rate-history/usd-idr-2023-04-17\">2023-4-17</a>,\n",
       " <a class=\"n\" href=\"/exchange-rate-history/usd-idr-2023-04-14\">2023-4-14</a>,\n",
       " <a class=\"n\" href=\"/exchange-rate-history/usd-idr-2023-04-13\">2023-4-13</a>,\n",
       " <a class=\"n\" href=\"/exchange-rate-history/usd-idr-2023-04-12\">2023-4-12</a>,\n",
       " <a class=\"n\" href=\"/exchange-rate-history/usd-idr-2023-04-11\">2023-4-11</a>,\n",
       " <a class=\"n\" href=\"/exchange-rate-history/usd-idr-2023-04-10\">2023-4-10</a>,\n",
       " <a class=\"n\" href=\"/exchange-rate-history/usd-idr-2023-04-07\">2023-4-7</a>,\n",
       " <a class=\"n\" href=\"/exchange-rate-history/usd-idr-2023-04-06\">2023-4-6</a>,\n",
       " <a class=\"n\" href=\"/exchange-rate-history/usd-idr-2023-04-05\">2023-4-5</a>,\n",
       " <a class=\"n\" href=\"/exchange-rate-history/usd-idr-2023-04-04\">2023-4-4</a>,\n",
       " <a class=\"n\" href=\"/exchange-rate-history/usd-idr-2023-04-03\">2023-4-3</a>,\n",
       " <a class=\"n\" href=\"/exchange-rate-history/usd-idr-2023-03-31\">2023-3-31</a>,\n",
       " <a class=\"n\" href=\"/exchange-rate-history/usd-idr-2023-03-30\">2023-3-30</a>,\n",
       " <a class=\"n\" href=\"/exchange-rate-history/usd-idr-2023-03-29\">2023-3-29</a>,\n",
       " <a class=\"n\" href=\"/exchange-rate-history/usd-idr-2023-03-28\">2023-3-28</a>,\n",
       " <a class=\"n\" href=\"/exchange-rate-history/usd-idr-2023-03-27\">2023-3-27</a>,\n",
       " <a class=\"n\" href=\"/exchange-rate-history/usd-idr-2023-03-24\">2023-3-24</a>,\n",
       " <a class=\"n\" href=\"/exchange-rate-history/usd-idr-2023-03-23\">2023-3-23</a>,\n",
       " <a class=\"n\" href=\"/exchange-rate-history/usd-idr-2023-03-22\">2023-3-22</a>,\n",
       " <a class=\"n\" href=\"/exchange-rate-history/usd-idr-2023-03-21\">2023-3-21</a>,\n",
       " <a class=\"n\" href=\"/exchange-rate-history/usd-idr-2023-03-20\">2023-3-20</a>,\n",
       " <a class=\"n\" href=\"/exchange-rate-history/usd-idr-2023-03-17\">2023-3-17</a>,\n",
       " <a class=\"n\" href=\"/exchange-rate-history/usd-idr-2023-03-16\">2023-3-16</a>,\n",
       " <a class=\"n\" href=\"/exchange-rate-history/usd-idr-2023-03-15\">2023-3-15</a>,\n",
       " <a class=\"n\" href=\"/exchange-rate-history/usd-idr-2023-03-14\">2023-3-14</a>,\n",
       " <a class=\"n\" href=\"/exchange-rate-history/usd-idr-2023-03-13\">2023-3-13</a>,\n",
       " <a class=\"n\" href=\"/exchange-rate-history/usd-idr-2023-03-10\">2023-3-10</a>,\n",
       " <a class=\"n\" href=\"/exchange-rate-history/usd-idr-2023-03-09\">2023-3-9</a>,\n",
       " <a class=\"n\" href=\"/exchange-rate-history/usd-idr-2023-03-08\">2023-3-8</a>,\n",
       " <a class=\"n\" href=\"/exchange-rate-history/usd-idr-2023-03-07\">2023-3-7</a>,\n",
       " <a class=\"n\" href=\"/exchange-rate-history/usd-idr-2023-03-06\">2023-3-6</a>]"
      ]
     },
     "execution_count": 6,
     "metadata": {},
     "output_type": "execute_result"
    }
   ],
   "source": [
    "table1 = soup.find_all('a',attrs={'class':'n'})\n",
    "table1"
   ]
  },
  {
   "cell_type": "code",
   "execution_count": 7,
   "metadata": {},
   "outputs": [
    {
     "data": {
      "text/plain": [
       "'$1 = Rp15,223'"
      ]
     },
     "execution_count": 7,
     "metadata": {},
     "output_type": "execute_result"
    }
   ],
   "source": [
    "table2 = soup.find_all('span',attrs={'class':'w'})[2].text\n",
    "table2"
   ]
  },
  {
   "cell_type": "markdown",
   "metadata": {},
   "source": [
    "Finding row length."
   ]
  },
  {
   "cell_type": "code",
   "execution_count": 10,
   "metadata": {},
   "outputs": [
    {
     "name": "stdout",
     "output_type": "stream",
     "text": [
      "130\n"
     ]
    }
   ],
   "source": [
    "row=soup.find_all('span',attrs={'class':'w'})\n",
    "print(len(row))\n",
    "jumlahbaris=(len(row))"
   ]
  },
  {
   "cell_type": "markdown",
   "metadata": {},
   "source": [
    "Do the scrapping process here (please change this markdown with your explanation)"
   ]
  },
  {
   "cell_type": "code",
   "execution_count": 11,
   "metadata": {
    "ExecuteTime": {
     "end_time": "2020-01-13T05:12:24.008256Z",
     "start_time": "2020-01-13T05:12:23.980358Z"
    }
   },
   "outputs": [
    {
     "data": {
      "text/plain": [
       "[('2023-9-1', '$1 = Rp15,258'),\n",
       " ('2023-8-31', '$1 = Rp15,225'),\n",
       " ('2023-8-30', '$1 = Rp15,223'),\n",
       " ('2023-8-29', '$1 = Rp15,202'),\n",
       " ('2023-8-28', '$1 = Rp15,248'),\n",
       " ('2023-8-25', '$1 = Rp15,298'),\n",
       " ('2023-8-24', '$1 = Rp15,246'),\n",
       " ('2023-8-23', '$1 = Rp15,301'),\n",
       " ('2023-8-22', '$1 = Rp15,324'),\n",
       " ('2023-8-21', '$1 = Rp15,325'),\n",
       " ('2023-8-18', '$1 = Rp15,321'),\n",
       " ('2023-8-17', '$1 = Rp15,343'),\n",
       " ('2023-8-16', '$1 = Rp15,369'),\n",
       " ('2023-8-15', '$1 = Rp15,318'),\n",
       " ('2023-8-14', '$1 = Rp15,330'),\n",
       " ('2023-8-11', '$1 = Rp15,324'),\n",
       " ('2023-8-10', '$1 = Rp15,263'),\n",
       " ('2023-8-9', '$1 = Rp15,214'),\n",
       " ('2023-8-8', '$1 = Rp15,212'),\n",
       " ('2023-8-7', '$1 = Rp15,225'),\n",
       " ('2023-8-4', '$1 = Rp15,153'),\n",
       " ('2023-8-3', '$1 = Rp15,148'),\n",
       " ('2023-8-2', '$1 = Rp15,227'),\n",
       " ('2023-8-1', '$1 = Rp15,121'),\n",
       " ('2023-7-31', '$1 = Rp15,099'),\n",
       " ('2023-7-28', '$1 = Rp15,107'),\n",
       " ('2023-7-27', '$1 = Rp15,102'),\n",
       " ('2023-7-26', '$1 = Rp15,009'),\n",
       " ('2023-7-25', '$1 = Rp15,027'),\n",
       " ('2023-7-24', '$1 = Rp15,022'),\n",
       " ('2023-7-21', '$1 = Rp15,043'),\n",
       " ('2023-7-20', '$1 = Rp15,056'),\n",
       " ('2023-7-19', '$1 = Rp15,009'),\n",
       " ('2023-7-18', '$1 = Rp14,989'),\n",
       " ('2023-7-17', '$1 = Rp14,972'),\n",
       " ('2023-7-14', '$1 = Rp15,003'),\n",
       " ('2023-7-13', '$1 = Rp14,954'),\n",
       " ('2023-7-12', '$1 = Rp14,935'),\n",
       " ('2023-7-11', '$1 = Rp15,140'),\n",
       " ('2023-7-10', '$1 = Rp15,187'),\n",
       " ('2023-7-7', '$1 = Rp15,162'),\n",
       " ('2023-7-6', '$1 = Rp15,178'),\n",
       " ('2023-7-5', '$1 = Rp15,078'),\n",
       " ('2023-7-4', '$1 = Rp15,020'),\n",
       " ('2023-7-3', '$1 = Rp15,063'),\n",
       " ('2023-6-30', '$1 = Rp15,040'),\n",
       " ('2023-6-29', '$1 = Rp15,059'),\n",
       " ('2023-6-28', '$1 = Rp14,985'),\n",
       " ('2023-6-27', '$1 = Rp14,988'),\n",
       " ('2023-6-26', '$1 = Rp15,045'),\n",
       " ('2023-6-23', '$1 = Rp15,045'),\n",
       " ('2023-6-22', '$1 = Rp14,939'),\n",
       " ('2023-6-21', '$1 = Rp14,945'),\n",
       " ('2023-6-20', '$1 = Rp15,015'),\n",
       " ('2023-6-19', '$1 = Rp15,014'),\n",
       " ('2023-6-16', '$1 = Rp14,961'),\n",
       " ('2023-6-15', '$1 = Rp14,903'),\n",
       " ('2023-6-14', '$1 = Rp14,907'),\n",
       " ('2023-6-13', '$1 = Rp14,870'),\n",
       " ('2023-6-12', '$1 = Rp14,872'),\n",
       " ('2023-6-9', '$1 = Rp14,889'),\n",
       " ('2023-6-8', '$1 = Rp14,842'),\n",
       " ('2023-6-7', '$1 = Rp14,889'),\n",
       " ('2023-6-6', '$1 = Rp14,871'),\n",
       " ('2023-6-5', '$1 = Rp14,855'),\n",
       " ('2023-6-2', '$1 = Rp14,902'),\n",
       " ('2023-6-1', '$1 = Rp14,907'),\n",
       " ('2023-5-31', '$1 = Rp14,991'),\n",
       " ('2023-5-30', '$1 = Rp14,983'),\n",
       " ('2023-5-29', '$1 = Rp14,964'),\n",
       " ('2023-5-26', '$1 = Rp15,008'),\n",
       " ('2023-5-25', '$1 = Rp14,968'),\n",
       " ('2023-5-24', '$1 = Rp14,943'),\n",
       " ('2023-5-23', '$1 = Rp14,904'),\n",
       " ('2023-5-22', '$1 = Rp14,893'),\n",
       " ('2023-5-19', '$1 = Rp14,936'),\n",
       " ('2023-5-18', '$1 = Rp14,923'),\n",
       " ('2023-5-17', '$1 = Rp14,853'),\n",
       " ('2023-5-16', '$1 = Rp14,877'),\n",
       " ('2023-5-15', '$1 = Rp14,789'),\n",
       " ('2023-5-12', '$1 = Rp14,844'),\n",
       " ('2023-5-11', '$1 = Rp14,776'),\n",
       " ('2023-5-10', '$1 = Rp14,698'),\n",
       " ('2023-5-9', '$1 = Rp14,776'),\n",
       " ('2023-5-8', '$1 = Rp14,744'),\n",
       " ('2023-5-5', '$1 = Rp14,675'),\n",
       " ('2023-5-4', '$1 = Rp14,699'),\n",
       " ('2023-5-3', '$1 = Rp14,680'),\n",
       " ('2023-5-2', '$1 = Rp14,747'),\n",
       " ('2023-5-1', '$1 = Rp14,677'),\n",
       " ('2023-4-28', '$1 = Rp14,674'),\n",
       " ('2023-4-27', '$1 = Rp14,691'),\n",
       " ('2023-4-26', '$1 = Rp14,841'),\n",
       " ('2023-4-25', '$1 = Rp14,940'),\n",
       " ('2023-4-24', '$1 = Rp14,934'),\n",
       " ('2023-4-21', '$1 = Rp14,936'),\n",
       " ('2023-4-20', '$1 = Rp14,954'),\n",
       " ('2023-4-19', '$1 = Rp14,995'),\n",
       " ('2023-4-18', '$1 = Rp14,889'),\n",
       " ('2023-4-17', '$1 = Rp14,850'),\n",
       " ('2023-4-14', '$1 = Rp14,782'),\n",
       " ('2023-4-13', '$1 = Rp14,722'),\n",
       " ('2023-4-12', '$1 = Rp14,835'),\n",
       " ('2023-4-11', '$1 = Rp14,915'),\n",
       " ('2023-4-10', '$1 = Rp14,950'),\n",
       " ('2023-4-7', '$1 = Rp14,941'),\n",
       " ('2023-4-6', '$1 = Rp14,931'),\n",
       " ('2023-4-5', '$1 = Rp14,960'),\n",
       " ('2023-4-4', '$1 = Rp14,957'),\n",
       " ('2023-4-3', '$1 = Rp14,922'),\n",
       " ('2023-3-31', '$1 = Rp14,969'),\n",
       " ('2023-3-30', '$1 = Rp15,024'),\n",
       " ('2023-3-29', '$1 = Rp15,034'),\n",
       " ('2023-3-28', '$1 = Rp15,060'),\n",
       " ('2023-3-27', '$1 = Rp15,107'),\n",
       " ('2023-3-24', '$1 = Rp15,165'),\n",
       " ('2023-3-23', '$1 = Rp15,085'),\n",
       " ('2023-3-22', '$1 = Rp15,253'),\n",
       " ('2023-3-21', '$1 = Rp15,301'),\n",
       " ('2023-3-20', '$1 = Rp15,343'),\n",
       " ('2023-3-17', '$1 = Rp15,375'),\n",
       " ('2023-3-16', '$1 = Rp15,429'),\n",
       " ('2023-3-15', '$1 = Rp15,459'),\n",
       " ('2023-3-14', '$1 = Rp15,380'),\n",
       " ('2023-3-13', '$1 = Rp15,416'),\n",
       " ('2023-3-10', '$1 = Rp15,503'),\n",
       " ('2023-3-9', '$1 = Rp15,495'),\n",
       " ('2023-3-8', '$1 = Rp15,449'),\n",
       " ('2023-3-7', '$1 = Rp15,429'),\n",
       " ('2023-3-6', '$1 = Rp15,354')]"
      ]
     },
     "execution_count": 11,
     "metadata": {},
     "output_type": "execute_result"
    }
   ],
   "source": [
    "temp = [] #initiating a tuple\n",
    "\n",
    "for i in range(0, jumlahbaris):\n",
    "    #get tanggal\n",
    "    tanggal =soup.find_all('a',attrs={'class':'n'})[i].text\n",
    "\n",
    "    #get nilai mata uang\n",
    "    nilai_uang = soup.find_all('span',attrs={'class':'w'})[i].text\n",
    "\n",
    "    temp.append((tanggal,nilai_uang))\n",
    "    \n",
    "temp "
   ]
  },
  {
   "cell_type": "markdown",
   "metadata": {},
   "source": [
    "## Creating data frame & Data wrangling"
   ]
  },
  {
   "cell_type": "markdown",
   "metadata": {},
   "source": [
    "Put the array into dataframe"
   ]
  },
  {
   "cell_type": "code",
   "execution_count": 12,
   "metadata": {
    "ExecuteTime": {
     "end_time": "2020-01-13T05:12:41.517372Z",
     "start_time": "2020-01-13T05:12:29.130015Z"
    }
   },
   "outputs": [
    {
     "data": {
      "text/html": [
       "<div>\n",
       "<style scoped>\n",
       "    .dataframe tbody tr th:only-of-type {\n",
       "        vertical-align: middle;\n",
       "    }\n",
       "\n",
       "    .dataframe tbody tr th {\n",
       "        vertical-align: top;\n",
       "    }\n",
       "\n",
       "    .dataframe thead th {\n",
       "        text-align: right;\n",
       "    }\n",
       "</style>\n",
       "<table border=\"1\" class=\"dataframe\">\n",
       "  <thead>\n",
       "    <tr style=\"text-align: right;\">\n",
       "      <th></th>\n",
       "      <th>tanggal</th>\n",
       "      <th>nilai_uang</th>\n",
       "    </tr>\n",
       "  </thead>\n",
       "  <tbody>\n",
       "    <tr>\n",
       "      <th>0</th>\n",
       "      <td>2023-9-1</td>\n",
       "      <td>$1 = Rp15,258</td>\n",
       "    </tr>\n",
       "    <tr>\n",
       "      <th>1</th>\n",
       "      <td>2023-8-31</td>\n",
       "      <td>$1 = Rp15,225</td>\n",
       "    </tr>\n",
       "    <tr>\n",
       "      <th>2</th>\n",
       "      <td>2023-8-30</td>\n",
       "      <td>$1 = Rp15,223</td>\n",
       "    </tr>\n",
       "    <tr>\n",
       "      <th>3</th>\n",
       "      <td>2023-8-29</td>\n",
       "      <td>$1 = Rp15,202</td>\n",
       "    </tr>\n",
       "    <tr>\n",
       "      <th>4</th>\n",
       "      <td>2023-8-28</td>\n",
       "      <td>$1 = Rp15,248</td>\n",
       "    </tr>\n",
       "  </tbody>\n",
       "</table>\n",
       "</div>"
      ],
      "text/plain": [
       "     tanggal     nilai_uang\n",
       "0   2023-9-1  $1 = Rp15,258\n",
       "1  2023-8-31  $1 = Rp15,225\n",
       "2  2023-8-30  $1 = Rp15,223\n",
       "3  2023-8-29  $1 = Rp15,202\n",
       "4  2023-8-28  $1 = Rp15,248"
      ]
     },
     "execution_count": 12,
     "metadata": {},
     "output_type": "execute_result"
    }
   ],
   "source": [
    "import pandas as pd\n",
    "\n",
    "df = pd.DataFrame(temp,columns=('tanggal','nilai_uang'))\n",
    "df.head()"
   ]
  },
  {
   "cell_type": "markdown",
   "metadata": {},
   "source": [
    "Do the data cleaning here (please change this markdown with your explanation of what you do for data wrangling)"
   ]
  },
  {
   "cell_type": "code",
   "execution_count": 13,
   "metadata": {
    "ExecuteTime": {
     "end_time": "2020-01-13T05:12:59.165559Z",
     "start_time": "2020-01-13T05:12:58.910012Z"
    }
   },
   "outputs": [
    {
     "data": {
      "text/plain": [
       "tanggal       object\n",
       "nilai_uang    object\n",
       "dtype: object"
      ]
     },
     "execution_count": 13,
     "metadata": {},
     "output_type": "execute_result"
    }
   ],
   "source": [
    "df.dtypes"
   ]
  },
  {
   "cell_type": "code",
   "execution_count": 14,
   "metadata": {},
   "outputs": [],
   "source": [
    "# menyimpang data hasil scraping supaya mudah di ekplorasi lebih lanjut\n",
    "df.to_csv('ws_mustafa1')"
   ]
  },
  {
   "cell_type": "code",
   "execution_count": 44,
   "metadata": {},
   "outputs": [
    {
     "data": {
      "text/html": [
       "<div>\n",
       "<style scoped>\n",
       "    .dataframe tbody tr th:only-of-type {\n",
       "        vertical-align: middle;\n",
       "    }\n",
       "\n",
       "    .dataframe tbody tr th {\n",
       "        vertical-align: top;\n",
       "    }\n",
       "\n",
       "    .dataframe thead th {\n",
       "        text-align: right;\n",
       "    }\n",
       "</style>\n",
       "<table border=\"1\" class=\"dataframe\">\n",
       "  <thead>\n",
       "    <tr style=\"text-align: right;\">\n",
       "      <th></th>\n",
       "      <th>Unnamed: 0</th>\n",
       "      <th>tanggal</th>\n",
       "      <th>nilai_uang</th>\n",
       "    </tr>\n",
       "  </thead>\n",
       "  <tbody>\n",
       "    <tr>\n",
       "      <th>0</th>\n",
       "      <td>0</td>\n",
       "      <td>2023-9-1</td>\n",
       "      <td>$1 = Rp15,258</td>\n",
       "    </tr>\n",
       "    <tr>\n",
       "      <th>1</th>\n",
       "      <td>1</td>\n",
       "      <td>2023-8-31</td>\n",
       "      <td>$1 = Rp15,225</td>\n",
       "    </tr>\n",
       "    <tr>\n",
       "      <th>2</th>\n",
       "      <td>2</td>\n",
       "      <td>2023-8-30</td>\n",
       "      <td>$1 = Rp15,223</td>\n",
       "    </tr>\n",
       "    <tr>\n",
       "      <th>3</th>\n",
       "      <td>3</td>\n",
       "      <td>2023-8-29</td>\n",
       "      <td>$1 = Rp15,202</td>\n",
       "    </tr>\n",
       "    <tr>\n",
       "      <th>4</th>\n",
       "      <td>4</td>\n",
       "      <td>2023-8-28</td>\n",
       "      <td>$1 = Rp15,248</td>\n",
       "    </tr>\n",
       "    <tr>\n",
       "      <th>...</th>\n",
       "      <td>...</td>\n",
       "      <td>...</td>\n",
       "      <td>...</td>\n",
       "    </tr>\n",
       "    <tr>\n",
       "      <th>125</th>\n",
       "      <td>125</td>\n",
       "      <td>2023-3-10</td>\n",
       "      <td>$1 = Rp15,503</td>\n",
       "    </tr>\n",
       "    <tr>\n",
       "      <th>126</th>\n",
       "      <td>126</td>\n",
       "      <td>2023-3-9</td>\n",
       "      <td>$1 = Rp15,495</td>\n",
       "    </tr>\n",
       "    <tr>\n",
       "      <th>127</th>\n",
       "      <td>127</td>\n",
       "      <td>2023-3-8</td>\n",
       "      <td>$1 = Rp15,449</td>\n",
       "    </tr>\n",
       "    <tr>\n",
       "      <th>128</th>\n",
       "      <td>128</td>\n",
       "      <td>2023-3-7</td>\n",
       "      <td>$1 = Rp15,429</td>\n",
       "    </tr>\n",
       "    <tr>\n",
       "      <th>129</th>\n",
       "      <td>129</td>\n",
       "      <td>2023-3-6</td>\n",
       "      <td>$1 = Rp15,354</td>\n",
       "    </tr>\n",
       "  </tbody>\n",
       "</table>\n",
       "<p>130 rows × 3 columns</p>\n",
       "</div>"
      ],
      "text/plain": [
       "     Unnamed: 0    tanggal     nilai_uang\n",
       "0             0   2023-9-1  $1 = Rp15,258\n",
       "1             1  2023-8-31  $1 = Rp15,225\n",
       "2             2  2023-8-30  $1 = Rp15,223\n",
       "3             3  2023-8-29  $1 = Rp15,202\n",
       "4             4  2023-8-28  $1 = Rp15,248\n",
       "..          ...        ...            ...\n",
       "125         125  2023-3-10  $1 = Rp15,503\n",
       "126         126   2023-3-9  $1 = Rp15,495\n",
       "127         127   2023-3-8  $1 = Rp15,449\n",
       "128         128   2023-3-7  $1 = Rp15,429\n",
       "129         129   2023-3-6  $1 = Rp15,354\n",
       "\n",
       "[130 rows x 3 columns]"
      ]
     },
     "execution_count": 44,
     "metadata": {},
     "output_type": "execute_result"
    }
   ],
   "source": [
    "# Membaca kembali data yang sudah disimpan dari format csv\n",
    "df2=pd.read_csv('ws_mustafa1')\n",
    "df2"
   ]
  },
  {
   "cell_type": "markdown",
   "metadata": {},
   "source": [
    "Data visualisation (please change this markdown with your explanation of what you do for data wrangling)"
   ]
  },
  {
   "cell_type": "code",
   "execution_count": 45,
   "metadata": {},
   "outputs": [
    {
     "data": {
      "text/html": [
       "<div>\n",
       "<style scoped>\n",
       "    .dataframe tbody tr th:only-of-type {\n",
       "        vertical-align: middle;\n",
       "    }\n",
       "\n",
       "    .dataframe tbody tr th {\n",
       "        vertical-align: top;\n",
       "    }\n",
       "\n",
       "    .dataframe thead th {\n",
       "        text-align: right;\n",
       "    }\n",
       "</style>\n",
       "<table border=\"1\" class=\"dataframe\">\n",
       "  <thead>\n",
       "    <tr style=\"text-align: right;\">\n",
       "      <th></th>\n",
       "      <th>tanggal</th>\n",
       "      <th>nilai_uang</th>\n",
       "    </tr>\n",
       "  </thead>\n",
       "  <tbody>\n",
       "    <tr>\n",
       "      <th>0</th>\n",
       "      <td>2023-9-1</td>\n",
       "      <td>$1 = Rp15,258</td>\n",
       "    </tr>\n",
       "    <tr>\n",
       "      <th>1</th>\n",
       "      <td>2023-8-31</td>\n",
       "      <td>$1 = Rp15,225</td>\n",
       "    </tr>\n",
       "    <tr>\n",
       "      <th>2</th>\n",
       "      <td>2023-8-30</td>\n",
       "      <td>$1 = Rp15,223</td>\n",
       "    </tr>\n",
       "    <tr>\n",
       "      <th>3</th>\n",
       "      <td>2023-8-29</td>\n",
       "      <td>$1 = Rp15,202</td>\n",
       "    </tr>\n",
       "    <tr>\n",
       "      <th>4</th>\n",
       "      <td>2023-8-28</td>\n",
       "      <td>$1 = Rp15,248</td>\n",
       "    </tr>\n",
       "    <tr>\n",
       "      <th>...</th>\n",
       "      <td>...</td>\n",
       "      <td>...</td>\n",
       "    </tr>\n",
       "    <tr>\n",
       "      <th>125</th>\n",
       "      <td>2023-3-10</td>\n",
       "      <td>$1 = Rp15,503</td>\n",
       "    </tr>\n",
       "    <tr>\n",
       "      <th>126</th>\n",
       "      <td>2023-3-9</td>\n",
       "      <td>$1 = Rp15,495</td>\n",
       "    </tr>\n",
       "    <tr>\n",
       "      <th>127</th>\n",
       "      <td>2023-3-8</td>\n",
       "      <td>$1 = Rp15,449</td>\n",
       "    </tr>\n",
       "    <tr>\n",
       "      <th>128</th>\n",
       "      <td>2023-3-7</td>\n",
       "      <td>$1 = Rp15,429</td>\n",
       "    </tr>\n",
       "    <tr>\n",
       "      <th>129</th>\n",
       "      <td>2023-3-6</td>\n",
       "      <td>$1 = Rp15,354</td>\n",
       "    </tr>\n",
       "  </tbody>\n",
       "</table>\n",
       "<p>130 rows × 2 columns</p>\n",
       "</div>"
      ],
      "text/plain": [
       "       tanggal     nilai_uang\n",
       "0     2023-9-1  $1 = Rp15,258\n",
       "1    2023-8-31  $1 = Rp15,225\n",
       "2    2023-8-30  $1 = Rp15,223\n",
       "3    2023-8-29  $1 = Rp15,202\n",
       "4    2023-8-28  $1 = Rp15,248\n",
       "..         ...            ...\n",
       "125  2023-3-10  $1 = Rp15,503\n",
       "126   2023-3-9  $1 = Rp15,495\n",
       "127   2023-3-8  $1 = Rp15,449\n",
       "128   2023-3-7  $1 = Rp15,429\n",
       "129   2023-3-6  $1 = Rp15,354\n",
       "\n",
       "[130 rows x 2 columns]"
      ]
     },
     "execution_count": 45,
     "metadata": {},
     "output_type": "execute_result"
    }
   ],
   "source": [
    "# mengambil data yang sesuai dengan kebutuhan analisa data yaitu kolom tanggal dan nilai_uang\n",
    "ws1=df2[['tanggal','nilai_uang']]\n",
    "ws1"
   ]
  },
  {
   "cell_type": "code",
   "execution_count": 46,
   "metadata": {},
   "outputs": [],
   "source": [
    "# Merubah data kolom nilai_uang untuk ambil nilai rupiahnya dan disimpan dalam kolom masa_uang\n",
    "ws1['mata_uang']=ws1['nilai_uang'].str.split().str[2]\n",
    "ws2=ws1[['tanggal','mata_uang']]"
   ]
  },
  {
   "cell_type": "code",
   "execution_count": 47,
   "metadata": {},
   "outputs": [
    {
     "data": {
      "text/html": [
       "<div>\n",
       "<style scoped>\n",
       "    .dataframe tbody tr th:only-of-type {\n",
       "        vertical-align: middle;\n",
       "    }\n",
       "\n",
       "    .dataframe tbody tr th {\n",
       "        vertical-align: top;\n",
       "    }\n",
       "\n",
       "    .dataframe thead th {\n",
       "        text-align: right;\n",
       "    }\n",
       "</style>\n",
       "<table border=\"1\" class=\"dataframe\">\n",
       "  <thead>\n",
       "    <tr style=\"text-align: right;\">\n",
       "      <th></th>\n",
       "      <th>tanggal</th>\n",
       "      <th>mata_uang</th>\n",
       "    </tr>\n",
       "  </thead>\n",
       "  <tbody>\n",
       "    <tr>\n",
       "      <th>0</th>\n",
       "      <td>2023-9-1</td>\n",
       "      <td>Rp15,258</td>\n",
       "    </tr>\n",
       "    <tr>\n",
       "      <th>1</th>\n",
       "      <td>2023-8-31</td>\n",
       "      <td>Rp15,225</td>\n",
       "    </tr>\n",
       "    <tr>\n",
       "      <th>2</th>\n",
       "      <td>2023-8-30</td>\n",
       "      <td>Rp15,223</td>\n",
       "    </tr>\n",
       "    <tr>\n",
       "      <th>3</th>\n",
       "      <td>2023-8-29</td>\n",
       "      <td>Rp15,202</td>\n",
       "    </tr>\n",
       "    <tr>\n",
       "      <th>4</th>\n",
       "      <td>2023-8-28</td>\n",
       "      <td>Rp15,248</td>\n",
       "    </tr>\n",
       "    <tr>\n",
       "      <th>...</th>\n",
       "      <td>...</td>\n",
       "      <td>...</td>\n",
       "    </tr>\n",
       "    <tr>\n",
       "      <th>125</th>\n",
       "      <td>2023-3-10</td>\n",
       "      <td>Rp15,503</td>\n",
       "    </tr>\n",
       "    <tr>\n",
       "      <th>126</th>\n",
       "      <td>2023-3-9</td>\n",
       "      <td>Rp15,495</td>\n",
       "    </tr>\n",
       "    <tr>\n",
       "      <th>127</th>\n",
       "      <td>2023-3-8</td>\n",
       "      <td>Rp15,449</td>\n",
       "    </tr>\n",
       "    <tr>\n",
       "      <th>128</th>\n",
       "      <td>2023-3-7</td>\n",
       "      <td>Rp15,429</td>\n",
       "    </tr>\n",
       "    <tr>\n",
       "      <th>129</th>\n",
       "      <td>2023-3-6</td>\n",
       "      <td>Rp15,354</td>\n",
       "    </tr>\n",
       "  </tbody>\n",
       "</table>\n",
       "<p>130 rows × 2 columns</p>\n",
       "</div>"
      ],
      "text/plain": [
       "       tanggal mata_uang\n",
       "0     2023-9-1  Rp15,258\n",
       "1    2023-8-31  Rp15,225\n",
       "2    2023-8-30  Rp15,223\n",
       "3    2023-8-29  Rp15,202\n",
       "4    2023-8-28  Rp15,248\n",
       "..         ...       ...\n",
       "125  2023-3-10  Rp15,503\n",
       "126   2023-3-9  Rp15,495\n",
       "127   2023-3-8  Rp15,449\n",
       "128   2023-3-7  Rp15,429\n",
       "129   2023-3-6  Rp15,354\n",
       "\n",
       "[130 rows x 2 columns]"
      ]
     },
     "execution_count": 47,
     "metadata": {},
     "output_type": "execute_result"
    }
   ],
   "source": [
    "# Cek isi data pada kolom mata_uang\n",
    "ws2"
   ]
  },
  {
   "cell_type": "code",
   "execution_count": 48,
   "metadata": {},
   "outputs": [
    {
     "name": "stdout",
     "output_type": "stream",
     "text": [
      "<class 'pandas.core.frame.DataFrame'>\n",
      "RangeIndex: 130 entries, 0 to 129\n",
      "Data columns (total 2 columns):\n",
      " #   Column     Non-Null Count  Dtype \n",
      "---  ------     --------------  ----- \n",
      " 0   tanggal    130 non-null    object\n",
      " 1   mata_uang  130 non-null    object\n",
      "dtypes: object(2)\n",
      "memory usage: 2.2+ KB\n"
     ]
    }
   ],
   "source": [
    "# cek format data pada tabel sebelum analisa data\n",
    "ws2.info()"
   ]
  },
  {
   "cell_type": "code",
   "execution_count": 49,
   "metadata": {},
   "outputs": [
    {
     "name": "stdout",
     "output_type": "stream",
     "text": [
      "<class 'pandas.core.frame.DataFrame'>\n",
      "RangeIndex: 130 entries, 0 to 129\n",
      "Data columns (total 2 columns):\n",
      " #   Column     Non-Null Count  Dtype         \n",
      "---  ------     --------------  -----         \n",
      " 0   tanggal    130 non-null    datetime64[ns]\n",
      " 1   mata_uang  130 non-null    object        \n",
      "dtypes: datetime64[ns](1), object(1)\n",
      "memory usage: 2.2+ KB\n"
     ]
    },
    {
     "name": "stderr",
     "output_type": "stream",
     "text": [
      "C:\\Users\\LENOVO\\AppData\\Local\\Temp\\ipykernel_13208\\348116815.py:2: SettingWithCopyWarning: \n",
      "A value is trying to be set on a copy of a slice from a DataFrame.\n",
      "Try using .loc[row_indexer,col_indexer] = value instead\n",
      "\n",
      "See the caveats in the documentation: https://pandas.pydata.org/pandas-docs/stable/user_guide/indexing.html#returning-a-view-versus-a-copy\n",
      "  ws2['tanggal']=ws2['tanggal'].astype('datetime64[ns]')\n"
     ]
    }
   ],
   "source": [
    "# Merubah format data dalam kolom tanggal menjadi date tome\n",
    "ws2['tanggal']=ws2['tanggal'].astype('datetime64[ns]')\n",
    "ws2.info()"
   ]
  },
  {
   "cell_type": "code",
   "execution_count": 50,
   "metadata": {},
   "outputs": [
    {
     "name": "stderr",
     "output_type": "stream",
     "text": [
      "C:\\Users\\LENOVO\\AppData\\Local\\Temp\\ipykernel_13208\\2589343453.py:2: SettingWithCopyWarning: \n",
      "A value is trying to be set on a copy of a slice from a DataFrame.\n",
      "Try using .loc[row_indexer,col_indexer] = value instead\n",
      "\n",
      "See the caveats in the documentation: https://pandas.pydata.org/pandas-docs/stable/user_guide/indexing.html#returning-a-view-versus-a-copy\n",
      "  ws2['mata_uang']=ws2['mata_uang'].str.replace(',','')\n"
     ]
    },
    {
     "data": {
      "text/html": [
       "<div>\n",
       "<style scoped>\n",
       "    .dataframe tbody tr th:only-of-type {\n",
       "        vertical-align: middle;\n",
       "    }\n",
       "\n",
       "    .dataframe tbody tr th {\n",
       "        vertical-align: top;\n",
       "    }\n",
       "\n",
       "    .dataframe thead th {\n",
       "        text-align: right;\n",
       "    }\n",
       "</style>\n",
       "<table border=\"1\" class=\"dataframe\">\n",
       "  <thead>\n",
       "    <tr style=\"text-align: right;\">\n",
       "      <th></th>\n",
       "      <th>tanggal</th>\n",
       "      <th>mata_uang</th>\n",
       "    </tr>\n",
       "  </thead>\n",
       "  <tbody>\n",
       "    <tr>\n",
       "      <th>0</th>\n",
       "      <td>2023-09-01</td>\n",
       "      <td>Rp15258</td>\n",
       "    </tr>\n",
       "    <tr>\n",
       "      <th>1</th>\n",
       "      <td>2023-08-31</td>\n",
       "      <td>Rp15225</td>\n",
       "    </tr>\n",
       "    <tr>\n",
       "      <th>2</th>\n",
       "      <td>2023-08-30</td>\n",
       "      <td>Rp15223</td>\n",
       "    </tr>\n",
       "    <tr>\n",
       "      <th>3</th>\n",
       "      <td>2023-08-29</td>\n",
       "      <td>Rp15202</td>\n",
       "    </tr>\n",
       "    <tr>\n",
       "      <th>4</th>\n",
       "      <td>2023-08-28</td>\n",
       "      <td>Rp15248</td>\n",
       "    </tr>\n",
       "  </tbody>\n",
       "</table>\n",
       "</div>"
      ],
      "text/plain": [
       "     tanggal mata_uang\n",
       "0 2023-09-01   Rp15258\n",
       "1 2023-08-31   Rp15225\n",
       "2 2023-08-30   Rp15223\n",
       "3 2023-08-29   Rp15202\n",
       "4 2023-08-28   Rp15248"
      ]
     },
     "execution_count": 50,
     "metadata": {},
     "output_type": "execute_result"
    }
   ],
   "source": [
    "# Menghilangkan data 'koma' dalam kolom mata_uang\n",
    "ws2['mata_uang']=ws2['mata_uang'].str.replace(',','')\n",
    "ws2.head()"
   ]
  },
  {
   "cell_type": "code",
   "execution_count": 51,
   "metadata": {},
   "outputs": [
    {
     "name": "stderr",
     "output_type": "stream",
     "text": [
      "C:\\Users\\LENOVO\\AppData\\Local\\Temp\\ipykernel_13208\\594046657.py:2: SettingWithCopyWarning: \n",
      "A value is trying to be set on a copy of a slice from a DataFrame.\n",
      "Try using .loc[row_indexer,col_indexer] = value instead\n",
      "\n",
      "See the caveats in the documentation: https://pandas.pydata.org/pandas-docs/stable/user_guide/indexing.html#returning-a-view-versus-a-copy\n",
      "  ws2['mata_uang']=ws2['mata_uang'].str.replace('Rp','')\n"
     ]
    },
    {
     "data": {
      "text/html": [
       "<div>\n",
       "<style scoped>\n",
       "    .dataframe tbody tr th:only-of-type {\n",
       "        vertical-align: middle;\n",
       "    }\n",
       "\n",
       "    .dataframe tbody tr th {\n",
       "        vertical-align: top;\n",
       "    }\n",
       "\n",
       "    .dataframe thead th {\n",
       "        text-align: right;\n",
       "    }\n",
       "</style>\n",
       "<table border=\"1\" class=\"dataframe\">\n",
       "  <thead>\n",
       "    <tr style=\"text-align: right;\">\n",
       "      <th></th>\n",
       "      <th>tanggal</th>\n",
       "      <th>mata_uang</th>\n",
       "    </tr>\n",
       "  </thead>\n",
       "  <tbody>\n",
       "    <tr>\n",
       "      <th>0</th>\n",
       "      <td>2023-09-01</td>\n",
       "      <td>15258</td>\n",
       "    </tr>\n",
       "    <tr>\n",
       "      <th>1</th>\n",
       "      <td>2023-08-31</td>\n",
       "      <td>15225</td>\n",
       "    </tr>\n",
       "    <tr>\n",
       "      <th>2</th>\n",
       "      <td>2023-08-30</td>\n",
       "      <td>15223</td>\n",
       "    </tr>\n",
       "    <tr>\n",
       "      <th>3</th>\n",
       "      <td>2023-08-29</td>\n",
       "      <td>15202</td>\n",
       "    </tr>\n",
       "    <tr>\n",
       "      <th>4</th>\n",
       "      <td>2023-08-28</td>\n",
       "      <td>15248</td>\n",
       "    </tr>\n",
       "  </tbody>\n",
       "</table>\n",
       "</div>"
      ],
      "text/plain": [
       "     tanggal mata_uang\n",
       "0 2023-09-01     15258\n",
       "1 2023-08-31     15225\n",
       "2 2023-08-30     15223\n",
       "3 2023-08-29     15202\n",
       "4 2023-08-28     15248"
      ]
     },
     "execution_count": 51,
     "metadata": {},
     "output_type": "execute_result"
    }
   ],
   "source": [
    "# Menghilangkan data Rp dalam kolom mata_uang\n",
    "ws2['mata_uang']=ws2['mata_uang'].str.replace('Rp','')\n",
    "ws2.head()"
   ]
  },
  {
   "cell_type": "code",
   "execution_count": 52,
   "metadata": {},
   "outputs": [
    {
     "name": "stderr",
     "output_type": "stream",
     "text": [
      "C:\\Users\\LENOVO\\AppData\\Local\\Temp\\ipykernel_13208\\88034871.py:2: SettingWithCopyWarning: \n",
      "A value is trying to be set on a copy of a slice from a DataFrame.\n",
      "Try using .loc[row_indexer,col_indexer] = value instead\n",
      "\n",
      "See the caveats in the documentation: https://pandas.pydata.org/pandas-docs/stable/user_guide/indexing.html#returning-a-view-versus-a-copy\n",
      "  ws2['mata_uang']=ws2['mata_uang'].astype('float64')\n"
     ]
    },
    {
     "data": {
      "text/html": [
       "<div>\n",
       "<style scoped>\n",
       "    .dataframe tbody tr th:only-of-type {\n",
       "        vertical-align: middle;\n",
       "    }\n",
       "\n",
       "    .dataframe tbody tr th {\n",
       "        vertical-align: top;\n",
       "    }\n",
       "\n",
       "    .dataframe thead th {\n",
       "        text-align: right;\n",
       "    }\n",
       "</style>\n",
       "<table border=\"1\" class=\"dataframe\">\n",
       "  <thead>\n",
       "    <tr style=\"text-align: right;\">\n",
       "      <th></th>\n",
       "      <th>tanggal</th>\n",
       "      <th>mata_uang</th>\n",
       "    </tr>\n",
       "  </thead>\n",
       "  <tbody>\n",
       "    <tr>\n",
       "      <th>0</th>\n",
       "      <td>2023-09-01</td>\n",
       "      <td>15258.0</td>\n",
       "    </tr>\n",
       "    <tr>\n",
       "      <th>1</th>\n",
       "      <td>2023-08-31</td>\n",
       "      <td>15225.0</td>\n",
       "    </tr>\n",
       "    <tr>\n",
       "      <th>2</th>\n",
       "      <td>2023-08-30</td>\n",
       "      <td>15223.0</td>\n",
       "    </tr>\n",
       "    <tr>\n",
       "      <th>3</th>\n",
       "      <td>2023-08-29</td>\n",
       "      <td>15202.0</td>\n",
       "    </tr>\n",
       "    <tr>\n",
       "      <th>4</th>\n",
       "      <td>2023-08-28</td>\n",
       "      <td>15248.0</td>\n",
       "    </tr>\n",
       "    <tr>\n",
       "      <th>5</th>\n",
       "      <td>2023-08-25</td>\n",
       "      <td>15298.0</td>\n",
       "    </tr>\n",
       "    <tr>\n",
       "      <th>6</th>\n",
       "      <td>2023-08-24</td>\n",
       "      <td>15246.0</td>\n",
       "    </tr>\n",
       "    <tr>\n",
       "      <th>7</th>\n",
       "      <td>2023-08-23</td>\n",
       "      <td>15301.0</td>\n",
       "    </tr>\n",
       "    <tr>\n",
       "      <th>8</th>\n",
       "      <td>2023-08-22</td>\n",
       "      <td>15324.0</td>\n",
       "    </tr>\n",
       "    <tr>\n",
       "      <th>9</th>\n",
       "      <td>2023-08-21</td>\n",
       "      <td>15325.0</td>\n",
       "    </tr>\n",
       "    <tr>\n",
       "      <th>10</th>\n",
       "      <td>2023-08-18</td>\n",
       "      <td>15321.0</td>\n",
       "    </tr>\n",
       "    <tr>\n",
       "      <th>11</th>\n",
       "      <td>2023-08-17</td>\n",
       "      <td>15343.0</td>\n",
       "    </tr>\n",
       "    <tr>\n",
       "      <th>12</th>\n",
       "      <td>2023-08-16</td>\n",
       "      <td>15369.0</td>\n",
       "    </tr>\n",
       "    <tr>\n",
       "      <th>13</th>\n",
       "      <td>2023-08-15</td>\n",
       "      <td>15318.0</td>\n",
       "    </tr>\n",
       "    <tr>\n",
       "      <th>14</th>\n",
       "      <td>2023-08-14</td>\n",
       "      <td>15330.0</td>\n",
       "    </tr>\n",
       "    <tr>\n",
       "      <th>15</th>\n",
       "      <td>2023-08-11</td>\n",
       "      <td>15324.0</td>\n",
       "    </tr>\n",
       "    <tr>\n",
       "      <th>16</th>\n",
       "      <td>2023-08-10</td>\n",
       "      <td>15263.0</td>\n",
       "    </tr>\n",
       "    <tr>\n",
       "      <th>17</th>\n",
       "      <td>2023-08-09</td>\n",
       "      <td>15214.0</td>\n",
       "    </tr>\n",
       "    <tr>\n",
       "      <th>18</th>\n",
       "      <td>2023-08-08</td>\n",
       "      <td>15212.0</td>\n",
       "    </tr>\n",
       "    <tr>\n",
       "      <th>19</th>\n",
       "      <td>2023-08-07</td>\n",
       "      <td>15225.0</td>\n",
       "    </tr>\n",
       "    <tr>\n",
       "      <th>20</th>\n",
       "      <td>2023-08-04</td>\n",
       "      <td>15153.0</td>\n",
       "    </tr>\n",
       "    <tr>\n",
       "      <th>21</th>\n",
       "      <td>2023-08-03</td>\n",
       "      <td>15148.0</td>\n",
       "    </tr>\n",
       "    <tr>\n",
       "      <th>22</th>\n",
       "      <td>2023-08-02</td>\n",
       "      <td>15227.0</td>\n",
       "    </tr>\n",
       "    <tr>\n",
       "      <th>23</th>\n",
       "      <td>2023-08-01</td>\n",
       "      <td>15121.0</td>\n",
       "    </tr>\n",
       "    <tr>\n",
       "      <th>24</th>\n",
       "      <td>2023-07-31</td>\n",
       "      <td>15099.0</td>\n",
       "    </tr>\n",
       "    <tr>\n",
       "      <th>25</th>\n",
       "      <td>2023-07-28</td>\n",
       "      <td>15107.0</td>\n",
       "    </tr>\n",
       "    <tr>\n",
       "      <th>26</th>\n",
       "      <td>2023-07-27</td>\n",
       "      <td>15102.0</td>\n",
       "    </tr>\n",
       "    <tr>\n",
       "      <th>27</th>\n",
       "      <td>2023-07-26</td>\n",
       "      <td>15009.0</td>\n",
       "    </tr>\n",
       "    <tr>\n",
       "      <th>28</th>\n",
       "      <td>2023-07-25</td>\n",
       "      <td>15027.0</td>\n",
       "    </tr>\n",
       "    <tr>\n",
       "      <th>29</th>\n",
       "      <td>2023-07-24</td>\n",
       "      <td>15022.0</td>\n",
       "    </tr>\n",
       "  </tbody>\n",
       "</table>\n",
       "</div>"
      ],
      "text/plain": [
       "      tanggal  mata_uang\n",
       "0  2023-09-01    15258.0\n",
       "1  2023-08-31    15225.0\n",
       "2  2023-08-30    15223.0\n",
       "3  2023-08-29    15202.0\n",
       "4  2023-08-28    15248.0\n",
       "5  2023-08-25    15298.0\n",
       "6  2023-08-24    15246.0\n",
       "7  2023-08-23    15301.0\n",
       "8  2023-08-22    15324.0\n",
       "9  2023-08-21    15325.0\n",
       "10 2023-08-18    15321.0\n",
       "11 2023-08-17    15343.0\n",
       "12 2023-08-16    15369.0\n",
       "13 2023-08-15    15318.0\n",
       "14 2023-08-14    15330.0\n",
       "15 2023-08-11    15324.0\n",
       "16 2023-08-10    15263.0\n",
       "17 2023-08-09    15214.0\n",
       "18 2023-08-08    15212.0\n",
       "19 2023-08-07    15225.0\n",
       "20 2023-08-04    15153.0\n",
       "21 2023-08-03    15148.0\n",
       "22 2023-08-02    15227.0\n",
       "23 2023-08-01    15121.0\n",
       "24 2023-07-31    15099.0\n",
       "25 2023-07-28    15107.0\n",
       "26 2023-07-27    15102.0\n",
       "27 2023-07-26    15009.0\n",
       "28 2023-07-25    15027.0\n",
       "29 2023-07-24    15022.0"
      ]
     },
     "execution_count": 52,
     "metadata": {},
     "output_type": "execute_result"
    }
   ],
   "source": [
    "# merubah format data pada kolom mata_uang menjadi float\n",
    "ws2['mata_uang']=ws2['mata_uang'].astype('float64')\n",
    "ws2.head(30)"
   ]
  },
  {
   "cell_type": "code",
   "execution_count": 53,
   "metadata": {},
   "outputs": [],
   "source": [
    "# Mengganti index dengan kolom tanggal\n",
    "ws2=ws2.set_index('tanggal')"
   ]
  },
  {
   "cell_type": "code",
   "execution_count": 54,
   "metadata": {},
   "outputs": [
    {
     "data": {
      "text/plain": [
       "<Axes: xlabel='tanggal'>"
      ]
     },
     "execution_count": 54,
     "metadata": {},
     "output_type": "execute_result"
    },
    {
     "data": {
      "image/png": "[encoded data removed]",
      "text/plain": [
       "<Figure size 640x480 with 1 Axes>"
      ]
     },
     "metadata": {},
     "output_type": "display_data"
    }
   ],
   "source": [
    "# membuat grafik perkembangan nilai mata uang  dolar ke Rupiah \n",
    "ws2.plot()"
   ]
  },
  {
   "cell_type": "markdown",
   "metadata": {},
   "source": [
    "### Implementing your webscrapping to the flask dashboard\n",
    "\n",
    "- Copy paste all of your web scrapping process to the desired position on the `app.py`\n",
    "- Changing the title of the dasboard at `index.html`"
   ]
  },
  {
   "cell_type": "markdown",
   "metadata": {},
   "source": [
    "## Finishing This Notebook with Your Analysis and Conclusion\n",
    "\n",
    "First you can do start with making the data visualisation. "
   ]
  },
  {
   "cell_type": "markdown",
   "metadata": {
    "ExecuteTime": {
     "end_time": "2020-01-13T05:20:56.208237Z",
     "start_time": "2020-01-13T05:20:56.076043Z"
    }
   },
   "source": [
    "## KESIMPULAN\n",
    "* Nilai mata uang rupiah terhadap 1 dolar sangta flktuatif setiap harinya\n",
    "* Range nilai mata uang rupiah ke dolar berkisar antara Rp. 14.400 sampai dengan Rp. 15.600  "
   ]
  },
  {
   "cell_type": "markdown",
   "metadata": {},
   "source": [
    "\n",
    "(Put your analysis and conclusion here.)"
   ]
  },
  {
   "cell_type": "markdown",
   "metadata": {},
   "source": [
    "### Implement it at the webapps\n",
    "\n",
    "- You can create additional analysis from the data.\n",
    "- Implement it to the dashboard with at `app.py` dan `index.html`."
   ]
  }
 ],
 "metadata": {
  "kernelspec": {
   "display_name": "wizard_da",
   "language": "python",
   "name": "python3"
  },
  "language_info": {
   "codemirror_mode": {
    "name": "ipython",
    "version": 3
   },
   "file_extension": ".py",
   "mimetype": "text/x-python",
   "name": "python",
   "nbconvert_exporter": "python",
   "pygments_lexer": "ipython3",
   "version": "3.10.12"
  }
 },
 "nbformat": 4,
 "nbformat_minor": 2
}
